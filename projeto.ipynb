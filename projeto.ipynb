{
 "cells": [
  {
   "cell_type": "code",
   "execution_count": null,
   "id": "5c8a8fdb",
   "metadata": {},
   "outputs": [],
   "source": [
    "import requests as r"
   ]
  },
  {
   "cell_type": "code",
   "execution_count": null,
   "id": "a0c9587a",
   "metadata": {},
   "outputs": [],
   "source": [
    "url = 'https://api.covid19api.com/dayone/country/brazil'\n",
    "resp = r.get(url)"
   ]
  },
  {
   "cell_type": "raw",
   "id": "99017d7a",
   "metadata": {},
   "source": [
    "resp.status_code"
   ]
  },
  {
   "cell_type": "code",
   "execution_count": null,
   "id": "5b7212fb",
   "metadata": {
    "scrolled": true
   },
   "outputs": [],
   "source": [
    "raw_data = resp.json()"
   ]
  },
  {
   "cell_type": "code",
   "execution_count": null,
   "id": "16095fea",
   "metadata": {
    "scrolled": true
   },
   "outputs": [],
   "source": [
    "raw_data[0]"
   ]
  },
  {
   "cell_type": "code",
   "execution_count": null,
   "id": "e4225711",
   "metadata": {},
   "outputs": [],
   "source": [
    "final_data = []\n",
    "for obs in raw_data:\n",
    "    final_data.append([obs['Confirmed'], obs['Deaths'], obs['Recovered'], obs['Active'], obs['Date']])"
   ]
  },
  {
   "cell_type": "code",
   "execution_count": null,
   "id": "563eeec0",
   "metadata": {},
   "outputs": [],
   "source": [
    "final_data.insert(0,['confirmados', 'obitos', 'recuperados', 'ativos', 'data'])\n",
    "final_data"
   ]
  },
  {
   "cell_type": "code",
   "execution_count": null,
   "id": "73462de4",
   "metadata": {},
   "outputs": [],
   "source": [
    "CONFIRMADOS = 0\n",
    "OBITOS = 1\n",
    "RECUPERADOS = 2 \n",
    "ATIVOS = 3\n",
    "DATA = 4"
   ]
  },
  {
   "cell_type": "code",
   "execution_count": null,
   "id": "acf9f37c",
   "metadata": {},
   "outputs": [],
   "source": [
    "for i in range(1, len(final_data)):\n",
    "    final_data[i][DATA] = final_data[i][DATA][:10]\n",
    "    "
   ]
  },
  {
   "cell_type": "code",
   "execution_count": null,
   "id": "d8d46d45",
   "metadata": {},
   "outputs": [],
   "source": [
    "final_data"
   ]
  },
  {
   "cell_type": "code",
   "execution_count": null,
   "id": "2b2cbe2e",
   "metadata": {},
   "outputs": [],
   "source": [
    "import datetime as dt"
   ]
  },
  {
   "cell_type": "code",
   "execution_count": null,
   "id": "c157297e",
   "metadata": {},
   "outputs": [],
   "source": [
    "print(dt.time(12,6,21,7))\n",
    "print('-------')\n",
    "print(dt.date(2020,4,25))\n",
    "print('-------')\n",
    "print(dt.datetime(2020,4,25,12,6,21,7))"
   ]
  },
  {
   "cell_type": "code",
   "execution_count": null,
   "id": "a6393bba",
   "metadata": {},
   "outputs": [],
   "source": [
    "natal = dt.date(2020,12,25)\n",
    "reveillon = dt.date(2021,1,1)\n",
    "print(reveillon-natal)\n",
    "print((reveillon-natal).days)\n",
    "print((reveillon-natal).seconds)\n",
    "print((reveillon-natal).microseconds)"
   ]
  },
  {
   "cell_type": "code",
   "execution_count": null,
   "id": "5e82af8d",
   "metadata": {},
   "outputs": [],
   "source": [
    "import csv\n",
    "import datetime as dt"
   ]
  },
  {
   "cell_type": "code",
   "execution_count": null,
   "id": "0ddcc3dc",
   "metadata": {},
   "outputs": [],
   "source": [
    "with open('brasil-covid.csv', 'w') as file:\n",
    "    writer = csv.writer(file)\n",
    "    writer.writerows(final_data)"
   ]
  },
  {
   "cell_type": "code",
   "execution_count": null,
   "id": "7a79e8ec",
   "metadata": {},
   "outputs": [],
   "source": [
    "for i in range(1, len(final_data)):\n",
    "    final_data[i][DATA]= dt.datetime.strptime(final_data[i][DATA], '%Y-%m-%d')"
   ]
  },
  {
   "cell_type": "code",
   "execution_count": null,
   "id": "f83e457a",
   "metadata": {},
   "outputs": [],
   "source": [
    "final_data"
   ]
  },
  {
   "cell_type": "code",
   "execution_count": null,
   "id": "57345b26",
   "metadata": {},
   "outputs": [],
   "source": [
    "def get_datasets(y, labels):\n",
    "    if type(y[0]) == list:\n",
    "        datasets= []\n",
    "        for i in range(len(y)):\n",
    "            datasets.append({\n",
    "                'label': labels[i],\n",
    "                'data': y[i]\n",
    "            })\n",
    "        return datasets\n",
    "    else:\n",
    "        return[\n",
    "            {\n",
    "            'label': labels[0],\n",
    "            'data': y\n",
    "            }\n",
    "        ]\n",
    "        "
   ]
  },
  {
   "cell_type": "code",
   "execution_count": null,
   "id": "76731d47",
   "metadata": {},
   "outputs": [],
   "source": [
    "def set_title(title=''):\n",
    "    if title != '':\n",
    "        display= 'true'\n",
    "    else:\n",
    "        display='false'\n",
    "    return{\n",
    "        'title':title,\n",
    "        'display':display\n",
    "    }"
   ]
  },
  {
   "cell_type": "code",
   "execution_count": null,
   "id": "c9ac2b22",
   "metadata": {},
   "outputs": [],
   "source": [
    "def create_chart(x,y,labels,kind='bar',title=''):\n",
    "    datasets= get_datasets(y,labels)\n",
    "    options = set_title(title)\n",
    "    \n",
    "    chart = {\n",
    "        'type': kind,\n",
    "        'data': {\n",
    "            'labels':x,\n",
    "            'datasets':datasets\n",
    "        },\n",
    "        'options': options\n",
    "    }\n",
    "    return chart"
   ]
  },
  {
   "cell_type": "code",
   "execution_count": null,
   "id": "65ae6d3e",
   "metadata": {},
   "outputs": [],
   "source": [
    "def get_api_chart(chart):\n",
    "    url_base= 'https://quickchart.io/chart/create'\n",
    "    resp= r.get(f'{url_base}?c={str(chart)}')\n",
    "    return resp.content"
   ]
  },
  {
   "cell_type": "code",
   "execution_count": null,
   "id": "cbcae358",
   "metadata": {},
   "outputs": [],
   "source": [
    "def save_image(path, content):\n",
    "    with open(path, 'wb') as image:\n",
    "        image.write(content)"
   ]
  },
  {
   "cell_type": "code",
   "execution_count": null,
   "id": "c850b462",
   "metadata": {},
   "outputs": [],
   "source": [
    "from PIL import Image\n",
    "from IPython.display import display"
   ]
  },
  {
   "cell_type": "code",
   "execution_count": null,
   "id": "a936a092",
   "metadata": {},
   "outputs": [],
   "source": [
    "def display_image(path):\n",
    "    img_pil = Image.open(path)\n",
    "    display(img_pil)"
   ]
  },
  {
   "cell_type": "code",
   "execution_count": null,
   "id": "8610f207",
   "metadata": {},
   "outputs": [],
   "source": [
    "y_data_1=[]\n",
    "for obs in final_data[1::10]:\n",
    "    y_data_1.append(obs[CONFIRMADOS])\n",
    "\n",
    "y_data_2=[]\n",
    "for obs in final_data[1::10]:\n",
    "    y_data_2.append(obs[RECUPERADOS])\n",
    "\n",
    "labels = ['confirmados', 'recuparados']\n",
    "\n",
    "x=[]\n",
    "for obs in final_data[1::10]:\n",
    "    x.append(obs[DATA].strftime('%d/%m/%Y'))\n",
    "\n",
    "chart= create_chart(x,[y_data_1, y_data_2], labels, title= 'gráfico confirmados vs recuperados')\n",
    "chart_content = get_api_chart(chart)\n",
    "save_image('meu-primeiro-grafico.png',chart_content)\n",
    "display_image('meu-primeiro-grafico.png')\n",
    "\n",
    "\n"
   ]
  },
  {
   "cell_type": "code",
   "execution_count": null,
   "id": "adba02e6",
   "metadata": {},
   "outputs": [],
   "source": [
    "from urllib.parse import quote\n",
    "    "
   ]
  },
  {
   "cell_type": "code",
   "execution_count": null,
   "id": "31ecfc45",
   "metadata": {},
   "outputs": [],
   "source": [
    "def get_api_qrcode(link):\n",
    "    text = quote(link) #parse do link para url\n",
    "    url_base = 'https://quickchart.io/qr'\n",
    "    resp = r.get(f'{url_base}?text={text}')\n",
    "    return resp.content"
   ]
  },
  {
   "cell_type": "code",
   "execution_count": null,
   "id": "f62d3f51",
   "metadata": {},
   "outputs": [],
   "source": [
    "url_base= 'https://quickchart.io/chart/create'\n",
    "link = f'{url_base}?c={str(chart)}'\n",
    "save_image('qr-code.png', get_api_qrcode(link))\n",
    "display_image('qr-code.png')"
   ]
  },
  {
   "cell_type": "code",
   "execution_count": null,
   "id": "1132a965",
   "metadata": {},
   "outputs": [],
   "source": []
  }
 ],
 "metadata": {
  "celltoolbar": "Attachments",
  "kernelspec": {
   "display_name": "Python 3",
   "language": "python",
   "name": "python3"
  },
  "language_info": {
   "codemirror_mode": {
    "name": "ipython",
    "version": 3
   },
   "file_extension": ".py",
   "mimetype": "text/x-python",
   "name": "python",
   "nbconvert_exporter": "python",
   "pygments_lexer": "ipython3",
   "version": "3.8.8"
  }
 },
 "nbformat": 4,
 "nbformat_minor": 5
}
